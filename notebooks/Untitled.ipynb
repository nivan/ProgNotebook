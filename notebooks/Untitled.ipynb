{
 "cells": [
  {
   "cell_type": "code",
   "execution_count": 1,
   "id": "2689ad9d",
   "metadata": {},
   "outputs": [],
   "source": [
    "import progNotebook\n",
    "import datasource\n",
    "import BinnedScat\n",
    "import json\n",
    "import numpy as np\n",
    "from fast_histogram import histogram1d\n",
    "import multiprocessing\n",
    "import matplotlib.pyplot as plt"
   ]
  },
  {
   "cell_type": "code",
   "execution_count": 4,
   "id": "837e9d0d",
   "metadata": {},
   "outputs": [
    {
     "data": {
      "application/vnd.jupyter.widget-view+json": {
       "model_id": "bff22f3ab95e45ffab3b33dea6a95666",
       "version_major": 2,
       "version_minor": 0
      },
      "text/plain": [
       "ProgScatterWidget()"
      ]
     },
     "metadata": {},
     "output_type": "display_data"
    },
    {
     "name": "stdout",
     "output_type": "stream",
     "text": [
      " "
     ]
    }
   ],
   "source": [
    "##QUANTILE EXAMPLES\n",
    "def updateFunction(scatData,marginalData,progressData):        \n",
    "    widget.scatData = json.dumps(scatData)\n",
    "    widget.marginals = json.dumps(marginalData)\n",
    "    widget.progress = json.dumps(progressData)\n",
    "\n",
    "#\n",
    "# scat = BinnedScat.MeanBinScat(updateFunction,'B', 'C', 'A', 3, 3, 6)\n",
    "# source = datasource.DataSource(\"numbers2.txt\",scat.processChunk,2000)  \n",
    "    \n",
    "    \n",
    "# #\n",
    "# scat = BinnedScat.QuantileBinScat(updateFunction,'B', 'C', 'A', 10, 10, 20)\n",
    "# source = datasource.DataSource(\"data/sample.csv\",scat.processChunk,10)  \n",
    "\n",
    "# #\n",
    "# scat = BinnedScat.QuantileBinScat(updateFunction,'B', 'C', 'A', 10, 10, 20)\n",
    "# source = datasource.DataSource(\"data/bigfile_multiscale.csv\",scat.processChunk,10000, 0.01)\n",
    "\n",
    "# #\n",
    "# scat = BinnedScat.QuantileBinScat(updateFunction,'DEP_DELAY', 'ARR_DELAY', 'DISTANCE', 30, 30, 20)\n",
    "# source = datasource.DataSource(\"data/flightsDataset.csv\",scat.processChunk,10000,.1)  \n",
    "\n",
    "#\n",
    "scat = BinnedScat.QuantileBinScat(updateFunction,'trip_distance', 'fare_amount', 'tip_amount', 30, 30, 20)\n",
    "source = datasource.DataSource(\"data/sampleTaxi.csv\",scat.processChunk,1000,.3)  \n",
    "\n",
    "\n",
    "widget = progNotebook.ProgScatterWidget(source)\n",
    "display(widget)\n",
    "widget.start()"
   ]
  },
  {
   "cell_type": "code",
   "execution_count": null,
   "id": "d9e183f9",
   "metadata": {},
   "outputs": [],
   "source": [
    "##MEAN EXAMPLES\n",
    "def updateFunction(scatData,marginalData,progressData):        \n",
    "    widget.scatData = json.dumps(scatData)\n",
    "    widget.marginals = json.dumps(marginalData)\n",
    "    widget.progress = json.dumps(progressData)\n",
    "\n",
    "#\n",
    "# scat = BinnedScat.MeanBinScat(updateFunction,'B', 'C', 'A', 3, 3, 6)\n",
    "# source = datasource.DataSource(\"numbers2.txt\",scat.processChunk,2000)  \n",
    "    \n",
    "    \n",
    "#\n",
    "scat = BinnedScat.MeanBinScat(updateFunction,'B', 'C', 'A', 10, 10, 20)\n",
    "source = datasource.DataSource(\"data/sample.csv\",scat.processChunk,10)  \n",
    "\n",
    "# #\n",
    "# scat = BinnedScat.MeanBinScat(updateFunction,'B', 'C', 'A', 10, 10, 20)\n",
    "# source = datasource.DataSource(\"data/bigfile_multiscale.csv\",scat.processChunk,10000, 0.01)\n",
    "\n",
    "#\n",
    "scat = BinnedScat.MeanBinScat(updateFunction,'DEP_DELAY', 'ARR_DELAY', 'DISTANCE', 30, 30, 20)\n",
    "source = datasource.DataSource(\"data/flightsDataset.csv\",scat.processChunk,10000,.1)  \n",
    "\n",
    "# #\n",
    "# scat = BinnedScat.MeanBinScat(updateFunction,'trip_distance', 'fare_amount', 'tip_amount', 30, 30, 20)\n",
    "# source = datasource.DataSource(\"data/sampleTaxi.csv\",scat.processChunk,1000,.3)  \n",
    "\n",
    "\n",
    "widget = progNotebook.ProgScatterWidget(source)\n",
    "display(widget)\n",
    "widget.start()"
   ]
  },
  {
   "cell_type": "code",
   "execution_count": null,
   "id": "205e2513",
   "metadata": {},
   "outputs": [],
   "source": [
    "##COUNT EXAMPLES\n",
    "def updateFunction(scatData,marginalData,progressData):        \n",
    "    widget.scatData = json.dumps(scatData)\n",
    "    widget.marginals = json.dumps(marginalData)\n",
    "    widget.progress = json.dumps(progressData)\n",
    "\n",
    "#\n",
    "# scat = BinnedScat.CountBinScat(updateFunction,'B', 'C', 'A', 3, 3, 6)\n",
    "# source = datasource.DataSource(\"numbers2.txt\",scat.processCountChunk,2000)  \n",
    "    \n",
    "    \n",
    "# #\n",
    "# scat = BinnedScat.CountBinScat(updateFunction,'B', 'C', 'A', 10, 10, 20)\n",
    "# source = datasource.DataSource(\"data/sample.csv\",scat.processCountChunk,2000)  \n",
    "\n",
    "# #\n",
    "# scat = BinnedScat.CountBinScat(updateFunction,'B', 'C', 'A', 10, 10, 20)\n",
    "# source = datasource.DataSource(\"data/bigfile_multiscale.csv\",scat.processCountChunk,10000, 0.01)\n",
    "\n",
    "#\n",
    "scat = BinnedScat.CountBinScat(updateFunction,'DEP_DELAY', 'ARR_DELAY', 'DISTANCE', 50, 50, 20)\n",
    "source = datasource.DataSource(\"data/flightsDataset.csv\",scat.processCountChunk,10000)  \n",
    "\n",
    "# #\n",
    "# scat = BinnedScat.CountBinScat(updateFunction,'trip_distance', 'fare_amount', 'trip_distance', 30, 30, 20)\n",
    "# source = datasource.DataSource(\"data/sampleTaxi.csv\",scat.processCountChunk,1000,.3)  \n",
    "\n",
    "\n",
    "widget = progNotebook.ProgScatterWidget(source)\n",
    "display(widget)\n",
    "widget.start()"
   ]
  },
  {
   "cell_type": "code",
   "execution_count": null,
   "id": "221e0246",
   "metadata": {},
   "outputs": [],
   "source": []
  },
  {
   "cell_type": "code",
   "execution_count": null,
   "id": "5c894056",
   "metadata": {},
   "outputs": [],
   "source": [
    "help(datasource.DataSource)"
   ]
  },
  {
   "cell_type": "code",
   "execution_count": null,
   "id": "7823bd9e",
   "metadata": {},
   "outputs": [],
   "source": [
    "widget = progNotebook.ProgScatterWidget(source,scat)\n",
    "display(widget)\n",
    "widget.start()"
   ]
  },
  {
   "cell_type": "code",
   "execution_count": null,
   "id": "3264d4a8",
   "metadata": {},
   "outputs": [],
   "source": [
    "def processCountChunk(chunk,progress):\n",
    "    scat.updateWithDataFrame(chunk, 'B', 'C', 'A')\n",
    "    valueBB = scat.getAggregationRange()\n",
    "    summary = scat.getSummary()\n",
    "    # build data to pass to widget\n",
    "    if summary:\n",
    "        bbox = scat.getFixedBoundingBox()\n",
    "        scatData = {'xDomainRange': bbox[0],\n",
    "                    'yDomainRange': bbox[1],\n",
    "                    'zDomainRange': valueBB,\n",
    "                    'xRes': scat._resX,\n",
    "                    'yRes': scat._resY,\n",
    "                    'xLabel': 'xAxis',\n",
    "                    'yLabel': 'yAxis',\n",
    "                    'zLabel': 'zLabel',\n",
    "                    'sparse': 0,\n",
    "                    'bins': summary[0].tolist(),\n",
    "                    'counts': summary[1].tolist()\n",
    "                    }\n",
    "\n",
    "        #\n",
    "        histResolution = 10\n",
    "        pointsX = scat.getMarginalHistogram(BinnedScat.Axis.X,histResolution)\n",
    "        pointsX = [[pointsX[0][i],pointsX[1][i]] for i in range(len(pointsX[0]))]\n",
    "        #\n",
    "        pointsY = scat.getMarginalHistogram(BinnedScat.Axis.Y,histResolution)\n",
    "        pointsY = [[pointsY[0][i],pointsY[1][i]] for i in range(len(pointsY[0]))]\n",
    "        #\n",
    "        zHist = scat.getCountHistogram()\n",
    "        numSplits = 10 + 1\n",
    "        xMin = zHist['range'][0]\n",
    "        xMax = zHist['range'][1]\n",
    "        step = (xMax - xMin) / numSplits\n",
    "        splits = [xMin + (i*step) for i in range(0, numSplits)]\n",
    "        pointsZ = list(zip(splits,list(zHist['values'])))\n",
    "        #\n",
    "        mx = {'points': pointsX, 'xLabel': 'Marginal X'}        \n",
    "        my = {'points': pointsY, 'xLabel': 'Marginal Y'}\n",
    "        mz = {'points': pointsZ, 'xLabel': 'Marginal Z'}\n",
    "        obj = {\"mx\":mx,\"my\":my,\"mz\":mz}\n",
    "        myProgress = {'current': progress[0], 'max': progress[1]}\n",
    "        #\n",
    "        try:\n",
    "            widget.marginals = json.dumps(obj)\n",
    "            widget.scatData = json.dumps(scatData)\n",
    "            widget.progress = json.dumps(myProgress)\n",
    "        except:\n",
    "            print(scat.getSummary())\n",
    "            halt\n",
    "        #print('*******',progress)\n",
    "\n",
    "source = datasource.DataSource(\"data/sample.csv\",processCountChunk,10)  \n",
    "scat = BinnedScat.CountBinScat('B', 'C', 'A', 10, 10, 20)\n",
    "#source.start()\n",
    "\n",
    "        \n",
    "# _x = multiprocessing.Process(target=source.start)\n",
    "# _x.start()\n",
    "#datasource.DataSource(\"data/bigfile_multiscale.csv\",processCountChunk,10000).start()"
   ]
  },
  {
   "cell_type": "code",
   "execution_count": null,
   "id": "1aa24901",
   "metadata": {},
   "outputs": [],
   "source": [
    "widget.signalRestart()"
   ]
  },
  {
   "cell_type": "code",
   "execution_count": null,
   "id": "05b66516",
   "metadata": {},
   "outputs": [],
   "source": [
    "def on_value_change(change):\n",
    "    print('UWOWOWUWOW',change['new'])\n",
    "widget.observe(on_value_change, names='restart')"
   ]
  },
  {
   "cell_type": "code",
   "execution_count": null,
   "id": "0581be59",
   "metadata": {},
   "outputs": [],
   "source": [
    "widget.restart = 13"
   ]
  },
  {
   "cell_type": "code",
   "execution_count": null,
   "id": "1d81af50",
   "metadata": {},
   "outputs": [],
   "source": [
    "widget.restart = 0"
   ]
  },
  {
   "cell_type": "code",
   "execution_count": null,
   "id": "fa85440a",
   "metadata": {},
   "outputs": [],
   "source": []
  },
  {
   "cell_type": "code",
   "execution_count": null,
   "id": "5c9e61d7",
   "metadata": {},
   "outputs": [],
   "source": [
    "def processMeanChunk(chunk):\n",
    "    scat.updateWithDataFrame(chunk, 'B', 'C', 'A')\n",
    "    valueBB = scat.getAggregationRange()\n",
    "    summary = scat.getSummary()\n",
    "    # build data to pass to widget\n",
    "    if summary:\n",
    "        bbox = scat.getFixedBoundingBox()\n",
    "        scatData = {'xDomainRange': bbox[0],\n",
    "                    'yDomainRange': bbox[1],\n",
    "                    'zDomainRange': valueBB,\n",
    "                    'xRes': scat._resX,\n",
    "                    'yRes': scat._resY,\n",
    "                    'xLabel': 'xAxis',\n",
    "                    'yLabel': 'yAxis',\n",
    "                    'zLabel': 'zLabel',\n",
    "                    'sparse': 0,\n",
    "                    'bins': summary[0],\n",
    "                    'counts': summary[1]\n",
    "                    }\n",
    "\n",
    "        #\n",
    "        histResolution = 10\n",
    "        pointsX = scat.getMarginalHistogram(BinnedScat.Axis.X,histResolution)\n",
    "        pointsX = [[pointsX[0][i],pointsX[1][i]] for i in range(len(pointsX[0]))]\n",
    "        #\n",
    "        pointsY = scat.getMarginalHistogram(BinnedScat.Axis.Y,histResolution)\n",
    "        pointsY = [[pointsY[0][i],pointsY[1][i]] for i in range(len(pointsY[0]))]\n",
    "        #\n",
    "        pointsZ = scat.getMarginalHistogram(BinnedScat.Axis.Z,histResolution)\n",
    "        pointsZ = [[pointsY[0][i],pointsY[1][i]] for i in range(len(pointsY[0]))]\n",
    "        #\n",
    "        mx = {'points': pointsX, 'xLabel': 'Marginal X'}\n",
    "        my = {'points': pointsY, 'xLabel': 'Marginal Y'}\n",
    "        mz = {'points': pointsZ, 'xLabel': 'Marginal Z'}\n",
    "        obj = {\"mx\":mx,\"my\":my,\"mz\":mz}\n",
    "        try:\n",
    "            widget.marginals = json.dumps(obj)\n",
    "            #json.dumps(scatData)\n",
    "            widget.scatData = json.dumps(scatData)\n",
    "        except:\n",
    "            print(summary)\n",
    "            halt\n",
    "       \n",
    "scat = BinnedScat.MeanBinScat('B', 'C', 'A', 10, 10, 20)\n",
    "datasource.DataSource(\"data/sample.csv\",processMeanChunk,10).start()\n",
    "#datasource.DataSource(\"data/bigfile_multiscale.csv\",processChunk,1000).start()"
   ]
  },
  {
   "cell_type": "code",
   "execution_count": null,
   "id": "b5a7e03f",
   "metadata": {},
   "outputs": [],
   "source": [
    "# Long running cell\n",
    "import multiprocessing, time\n",
    "\n",
    "def network_call(myStop):\n",
    "    for i in range(20):\n",
    "        if myStop == True:\n",
    "            break\n",
    "        print(i)\n",
    "        time.sleep(1)\n",
    "\n",
    "manager = multiprocessing.Manager()\n",
    "myStop = manager.Value('myStop', True)\n",
    "        \n",
    "x = multiprocessing.Process(target=network_call, args=(myStop,))\n",
    "x.start()"
   ]
  },
  {
   "cell_type": "code",
   "execution_count": null,
   "id": "d09ed5fe",
   "metadata": {},
   "outputs": [],
   "source": [
    "print(myStop)\n",
    "myStop = False\n",
    "print(myStop)"
   ]
  },
  {
   "cell_type": "code",
   "execution_count": null,
   "id": "7644dc2e",
   "metadata": {},
   "outputs": [],
   "source": [
    "x.kill()"
   ]
  },
  {
   "cell_type": "code",
   "execution_count": null,
   "id": "9efee7ef",
   "metadata": {},
   "outputs": [],
   "source": [
    "f = open('numbers.txt')\n",
    "array = []\n",
    "for line in f:\n",
    "    array.append(float(line))\n",
    "plt.hist(array)"
   ]
  },
  {
   "cell_type": "code",
   "execution_count": null,
   "id": "4468808a",
   "metadata": {},
   "outputs": [],
   "source": [
    "f = open('numbers2.txt')\n",
    "array = []\n",
    "for line in f:\n",
    "    array.append(float(line))\n",
    "plt.hist(array)"
   ]
  },
  {
   "cell_type": "code",
   "execution_count": null,
   "id": "b8c1fc2d",
   "metadata": {},
   "outputs": [],
   "source": [
    "np.array([[1,2], [3,4]]).flatten()"
   ]
  },
  {
   "cell_type": "code",
   "execution_count": null,
   "id": "11cc5c3c",
   "metadata": {},
   "outputs": [],
   "source": [
    "\n"
   ]
  },
  {
   "cell_type": "code",
   "execution_count": null,
   "id": "0241b9e3",
   "metadata": {},
   "outputs": [],
   "source": []
  },
  {
   "cell_type": "code",
   "execution_count": null,
   "id": "979da672",
   "metadata": {},
   "outputs": [],
   "source": []
  }
 ],
 "metadata": {
  "finalized": {
   "timestamp": 1661354056778,
   "trusted": true
  },
  "kernelspec": {
   "display_name": "Python 3 (ipykernel)",
   "language": "python",
   "name": "python3"
  },
  "language_info": {
   "codemirror_mode": {
    "name": "ipython",
    "version": 3
   },
   "file_extension": ".py",
   "mimetype": "text/x-python",
   "name": "python",
   "nbconvert_exporter": "python",
   "pygments_lexer": "ipython3",
   "version": "3.9.12"
  }
 },
 "nbformat": 4,
 "nbformat_minor": 5
}
